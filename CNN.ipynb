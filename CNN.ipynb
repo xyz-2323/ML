import pandas as pd
import numpy as np
import seaborn as sns

df=pd.read_csv("Churn_Modelling.csv")


df.head()

df.shape

df.columns


#input
x=df[['CreditScore','Age','Tenure','Balance','NumOfProducts','HasCrCard','IsActiveMember','EstimatedSalary']]
y=df['Exited']#output

sns.countplot(x=y)


#normalization
from sklearn.preprocessing import StandardScaler


scaler=StandardScaler()



x_scaled=scaler.fit_transform(x_res)
x_scaled


from sklearn.model_selection import train_test_split
x_train,x_test,y_train,y_test=train_test_split(x_scaled,y_res,random_state=0)


from sklearn.neural_network import MLPClassifier
ann.fit(x_train,y_train)
y_pred=ann.predict(x_test)
y_pred


from sklearn.metrics import ConfusionMatrixDisplay,accuracy_score,classification_report
ConfusionMatrixDisplay.from_predictions(y_test,y_pred)
acc=accuracy_score(y_test,y_pred)
acc



#after all come here for improve accuracy 
!pip install imbalanced-learn

from imblearn.over_sampling import RandomOverSampler
ros=RandomOverSampler(random_state=0)
x_res,y_res=ros.fit_resample(x,y)
y_res.value_counts()
